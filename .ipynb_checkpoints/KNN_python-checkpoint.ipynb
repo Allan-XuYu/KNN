{
 "cells": [
  {
   "cell_type": "markdown",
   "metadata": {},
   "source": [
    "# HKBU COMP7015 Aritificial Intelligence mini project"
   ]
  },
  {
   "cell_type": "markdown",
   "metadata": {},
   "source": [
    "## Group members :  \n",
    "* 1) **Name:** XU YU        **Student ID:** 20416601  **Mark:** Liaison\n",
    "* 2) **Name:** <u>LI WEIJIE</u>     **Student ID:** <u>20416644</u>\n",
    "* 3) **Name:** <u>LIN JUANJIA</u>    **Student ID:** <u>20430779</u>"
   ]
  },
  {
   "cell_type": "markdown",
   "metadata": {},
   "source": [
    "## Project code "
   ]
  },
  {
   "cell_type": "markdown",
   "metadata": {},
   "source": [
    "### 1) Import dependent package"
   ]
  },
  {
   "cell_type": "code",
   "execution_count": 1,
   "metadata": {},
   "outputs": [],
   "source": [
    "import pandas as pd\n",
    "import numpy as np\n",
    "import operator"
   ]
  },
  {
   "cell_type": "markdown",
   "metadata": {},
   "source": [
    "### 2) Data Pre-progress"
   ]
  },
  {
   "cell_type": "markdown",
   "metadata": {},
   "source": [
    "#### Read iris dataset as dataframe"
   ]
  },
  {
   "cell_type": "code",
   "execution_count": 2,
   "metadata": {},
   "outputs": [],
   "source": [
    "df = pd.read_csv(\"iris.csv\",header=0,sep=',')"
   ]
  },
  {
   "cell_type": "markdown",
   "metadata": {},
   "source": [
    "####  Random permutation for data "
   ]
  },
  {
   "cell_type": "code",
   "execution_count": 3,
   "metadata": {},
   "outputs": [],
   "source": [
    "row_index = np.random.permutation(df.shape[0]) # random rows ,return rows index"
   ]
  },
  {
   "cell_type": "markdown",
   "metadata": {},
   "source": [
    "#### Divide dataset to training set and testing set"
   ]
  },
  {
   "cell_type": "code",
   "execution_count": 4,
   "metadata": {},
   "outputs": [],
   "source": [
    "divide = int(0.8* len(row_index)) # 80% as training data, 20% as test data\n",
    "training_index=row_index[:divide]\n",
    "test_index=row_index[divide:]\n",
    "\n",
    "training_set = df.iloc[training_index,:4].values   # all data transform to be np.array ,avoid the further possible error\n",
    "test_set = df.iloc[test_index,:4].values"
   ]
  },
  {
   "cell_type": "markdown",
   "metadata": {},
   "source": [
    "#### Divide class labels"
   ]
  },
  {
   "cell_type": "code",
   "execution_count": 5,
   "metadata": {},
   "outputs": [],
   "source": [
    "training_class = df.iloc[training_index,4].values\n",
    "test_class = df.iloc[test_index,4].values"
   ]
  },
  {
   "cell_type": "markdown",
   "metadata": {},
   "source": [
    "### 3) KNN functions, using euclideanDistance"
   ]
  },
  {
   "cell_type": "code",
   "execution_count": 6,
   "metadata": {},
   "outputs": [],
   "source": [
    "class KNN():\n",
    "    \n",
    "    def __init__(self,TrainSet,TrainLabel,TestData,K_value):\n",
    "        self.predictValue = self.Predict(TrainSet,TrainLabel,TestData,K_value)\n",
    "\n",
    "    def euclideanDistance(self,point_1, point_2, data_len):\n",
    "        distance = 0\n",
    "        for i in range(data_len): # multip-attributes\n",
    "            distance = distance + np.square(point_1[i] - point_2[i])\n",
    "        return np.sqrt(distance) # root the square value.\n",
    "    \n",
    "    def Predict(self,train_dataset,train_class,test_datapoint,k):\n",
    "        distances={} # dict type key: value\n",
    "        neighbors = [] # store nearest k values, list type\n",
    "        \n",
    "        # Distance calculation \n",
    "        for x in range(len(train_dataset)):\n",
    "            dist_temp = self.euclideanDistance(test_datapoint, train_dataset[x], len(test_datapoint))\n",
    "            distances[x] = dist_temp\n",
    "            \n",
    "        # Ordering distances by ascending\n",
    "        sorted_distances = sorted(distances.items(),key=operator.itemgetter(1))# operator.itemgetter(1) , aim to [0]:[1] for dict type\n",
    "        \n",
    "        for x in range(k):  # range(k)\n",
    "            neighbors.append(sorted_distances[x][0]) # get the index of k-nearest points\n",
    "        \n",
    "        # Voting majority in k-points\n",
    "        count_points = {\"Iris-setosa\" : 0, \"Iris-versicolor\" : 0, \"Iris-virginica\" : 0}\n",
    "\n",
    "        for x in range(len(neighbors)):\n",
    "           \n",
    "            response_class = train_class[neighbors[x]] # using index to get class label of neighbor data in training dataset\n",
    "            if response_class in count_points:\n",
    "                count_points[response_class] += 1 # count number\n",
    "            else:\n",
    "                count_points[response_class] = 1 # not in our target class\n",
    "           \n",
    "        sorted_count_points = sorted(count_points.items(), key=operator.itemgetter(1), reverse=True) # find the most frequent class(get major points during these k points)\n",
    "        \n",
    "        return sorted_count_points[0][0]  # return predict result \n",
    "    \n",
    "    def PredictResult(self):\n",
    "        return self.predictValue"
   ]
  },
  {
   "cell_type": "markdown",
   "metadata": {},
   "source": [
    "### 4) Principal Components Analysis"
   ]
  },
  {
   "cell_type": "code",
   "execution_count": 7,
   "metadata": {},
   "outputs": [],
   "source": [
    "class PCA():\n",
    "    \n",
    "    def __init__(self):\n",
    "        self.std_num = 1\n",
    "    \n",
    "    def Projector(self,row_data, PCs):\n",
    "        data = row_data/self.std_num\n",
    "        S = np.cov(data.T) # calculate covariance\n",
    "        eigvalues,eigvectors = np.linalg.eig(S) # get eigenvalues&vectors\n",
    "        indexByValues = np.argsort(eigvalues)[::-1] # sort the top max eigenvalue\n",
    "    \n",
    "        eigvalues,eigvectors = eigvalues[indexByValues],eigvectors[:,indexByValues] # with the paired eigenvectors\n",
    "        eigvalues=np.real(eigvalues)\n",
    "        eigvectors=np.real(eigvectors)\n",
    "        subspace = data @ eigvectors[:,:PCs] \n",
    "        return eigvalues,eigvectors,subspace\n",
    "\n",
    "    def Reconstruct(self, data, eig_vectors,PCs):\n",
    "        eig_vectors = eig_vectors[:,:PCs]\n",
    "        cover_data = data @ eig_vectors.T\n",
    "        cover_data = self.std_num * cover_data\n",
    "\n",
    "        return cover_data"
   ]
  },
  {
   "cell_type": "markdown",
   "metadata": {},
   "source": [
    "### 5) K-fold Cross Validation"
   ]
  },
  {
   "cell_type": "code",
   "execution_count": 35,
   "metadata": {},
   "outputs": [],
   "source": [
    "def K_fold(dataset,folds,testSet_index):\n",
    "    \n",
    "    # subset size\n",
    "    subset_capicity=(int)(dataset.shape[0]/folds)\n",
    "    \n",
    "    # divide into k folds \n",
    "    stage = 0\n",
    "    subset_kfold = []# store [fold1,fold2,,,foldn]\n",
    "    for i in range(folds):\n",
    "        subset_kfold.append(dataset[stage:(subset_capicity+stage),:])\n",
    "        stage += subset_capicity\n",
    "    \n",
    "    # testing dataset\n",
    "    if(testSet_index<folds):\n",
    "        test_sample = subset_kfold.pop(testSet_index)  \n",
    "    else: return \"over index\"\n",
    "    \n",
    "    # training dataset\n",
    "    train_sample = np.array([])\n",
    "    train_sample=subset_kfold[0] # make arrary dimensions to be same for toolbox np.concatenate function require\n",
    "    for i in range(folds-2):\n",
    "        train_sample=np.concatenate((train_sample,subset_kfold[i+1])) \n",
    "    \n",
    "    return test_sample,train_sample"
   ]
  },
  {
   "cell_type": "markdown",
   "metadata": {},
   "source": [
    "## Performance Test"
   ]
  },
  {
   "cell_type": "markdown",
   "metadata": {},
   "source": [
    "#### Simple test with *K-value =5* and *K-value =10*"
   ]
  },
  {
   "cell_type": "code",
   "execution_count": 10,
   "metadata": {},
   "outputs": [
    {
     "name": "stdout",
     "output_type": "stream",
     "text": [
      "Accuary: 93.333333% ,Number of test samples: 30, K-value: 5\n",
      "Accuary: 96.666667% ,Number of test samples: 30, K-value: 10\n"
     ]
    }
   ],
   "source": [
    "# k-value =5\n",
    "NumTest=test_set.shape[0]\n",
    "Right = 0\n",
    "for i in range(NumTest):\n",
    "    testpoint = test_set[i]\n",
    "    Test= KNN(training_set,training_class,testpoint,5)\n",
    "\n",
    "    if test_class[i] == Test.PredictResult() :\n",
    "        Right += 1\n",
    "\n",
    "print(\"Accuary: %f%% ,Number of test samples: %d, K-value: %d\"% ((Right/NumTest)*100,NumTest,5))\n",
    "\n",
    "# k-value = 10\n",
    "Right = 0\n",
    "for i in range(NumTest):\n",
    "    testpoint = test_set[i]\n",
    "    Test= KNN(training_set,training_class,testpoint,10)\n",
    "\n",
    "    if test_class[i] == Test.PredictResult() :\n",
    "        Right += 1\n",
    "\n",
    "print(\"Accuary: %f%% ,Number of test samples: %d, K-value: %d\"% ((Right/NumTest)*100,NumTest,10))"
   ]
  },
  {
   "cell_type": "markdown",
   "metadata": {},
   "source": [
    "#### Simple test with PCA, PCs=2"
   ]
  },
  {
   "cell_type": "code",
   "execution_count": 11,
   "metadata": {},
   "outputs": [
    {
     "name": "stdout",
     "output_type": "stream",
     "text": [
      "Raw Data shape: (120, 4)\n",
      "After PCA Data shape: (120, 2)\n",
      "Accuary: 96.666667% ,Number of test samples: 30, K-value: 5, PCs:2\n",
      "Accuary: 93.333333% ,Number of test samples: 30, K-value: 10, PCs:2\n"
     ]
    }
   ],
   "source": [
    "p=PCA()\n",
    "e_values,e_vectors,subset= p.Projector(training_set,2)\n",
    "subset_test = test_set  @ e_vectors[:,:2]\n",
    "print(\"Raw Data shape:\",training_set.shape)\n",
    "print(\"After PCA Data shape:\",subset.shape)\n",
    "\n",
    "NumTest=test_set.shape[0]\n",
    "Right = 0\n",
    "for i in range(NumTest):\n",
    "    testpoint = subset_test[i]\n",
    "    Test= KNN(subset,training_class,testpoint,5)\n",
    "\n",
    "    if test_class[i] == Test.PredictResult() :\n",
    "        Right += 1\n",
    "\n",
    "print(\"Accuary: %f%% ,Number of test samples: %d, K-value: %d, PCs:%d\"% ((Right/NumTest)*100,NumTest,5,2))\n",
    "\n",
    "Right = 0\n",
    "for i in range(NumTest):\n",
    "    testpoint = subset_test[i]\n",
    "    Test= KNN(subset,training_class,testpoint,10)\n",
    "\n",
    "    if test_class[i] == Test.PredictResult() :\n",
    "        Right += 1\n",
    "\n",
    "print(\"Accuary: %f%% ,Number of test samples: %d, K-value: %d, PCs:%d\"% ((Right/NumTest)*100,NumTest,10,2))\n"
   ]
  },
  {
   "cell_type": "markdown",
   "metadata": {},
   "source": [
    "### Choosing best K-value of KNN by using K-folds  \n",
    "The lowest point in the graph has the lowest test error-rate  \n",
    "If it's regression problem,we could use MSE replace missclassification times"
   ]
  },
  {
   "cell_type": "code",
   "execution_count": 66,
   "metadata": {},
   "outputs": [
    {
     "data": {
      "text/plain": [
       "[<matplotlib.lines.Line2D at 0x28f0dc2a5b0>]"
      ]
     },
     "execution_count": 66,
     "metadata": {},
     "output_type": "execute_result"
    },
    {
     "data": {
      "image/png": "[encoded data removed]",
      "text/plain": [
       "<Figure size 432x288 with 1 Axes>"
      ]
     },
     "metadata": {
      "needs_background": "light"
     },
     "output_type": "display_data"
    }
   ],
   "source": [
    "dataset_ = df.iloc[row_index].values # all data random index\n",
    "fold=5\n",
    "Err_list =[]\n",
    "for z in range(1,21):  # K-value range\n",
    "    \n",
    "    Sum=0 # every K-value's test error\n",
    "    for j in range(fold): # different testset from dataset\n",
    "        # Get subsets\n",
    "        test_samples,train_samples=K_fold(dataset_,fold,j)\n",
    "        test_set = test_samples[:,:4]\n",
    "        train_set = train_samples[:,:4]\n",
    "        test_label = test_samples[:,4]\n",
    "        train_label =train_samples[:,4]\n",
    "        # Reset counts\n",
    "        Right = 0\n",
    "        Err = 0 \n",
    "        for i in range(len(test_set)): # one-time KNN, one 'for' loop a testset\n",
    "            testpoint = test_set[i]\n",
    "            Test= KNN(train_set,train_label,testpoint,z)\n",
    "\n",
    "            if test_label[i] == Test.PredictResult() :\n",
    "                Right += 1\n",
    "            Err=NumTest-Right\n",
    "        #print(\"Accuary: %f%% ,Number of test samples: %d, K-value: %d,K-folds:%d, Misscla:%d\"% ((Right/NumTest)*100,NumTest,z,j,Err))\n",
    "        Sum+=Err\n",
    "        \n",
    "    Err_list.append(Sum/fold) # K-fold average error\n",
    "        \n",
    "import matplotlib.pyplot as plt\n",
    "plt.plot(Err_list)"
   ]
  },
  {
   "cell_type": "markdown",
   "metadata": {},
   "source": [
    "## References  \n",
    "\n",
    "[1]Python Numpy Array Tutorial. (n.d.). Retrieved from https://www.datacamp.com/community/tutorials/python-numpy-tutorial\n",
    "\n",
    "[2]James, Gareth, Witten, Daniela, Hastie, Trevor, & Tibshirani, Robert. (2013). An introduction to statistical learning (Vol. 103, Springer texts in statistics). New York: Springer.\n",
    "\n",
    "[3]Carlsen, L., & Bruggemann, R. (2020). The iris dataset revisited – a partial ordering study. Informatica, 44(1), 35-44. doi:http://dx.doi.org.lib-ezproxy.hkbu.edu.hk/10.31449/inf.v44i1.2715\n",
    "\n",
    "[4]Principal Component Analysis. (n.d.). Retrieved from https://plot.ly/ipython-notebooks/principal-component-analysis/\n",
    "\n",
    "[5]How to Calculate Principal Component Analysis (PCA) from Scratch in Python. (2019, May 30). Retrieved from https://machinelearningmastery.com/calculate-principal-component-analysis-scratch-python/\n",
    "\n",
    "[6]k-NN, Logistic Regression, k-Fold CV from Scratch. Retrieved from https://www.kaggle.com/burhanykiyakoglu/k-nn-logistic-regression-k-fold-cv-from-scratch"
   ]
  }
 ],
 "metadata": {
  "kernelspec": {
   "display_name": "Python 3",
   "language": "python",
   "name": "python3"
  },
  "language_info": {
   "codemirror_mode": {
    "name": "ipython",
    "version": 3
   },
   "file_extension": ".py",
   "mimetype": "text/x-python",
   "name": "python",
   "nbconvert_exporter": "python",
   "pygments_lexer": "ipython3",
   "version": "3.8.3"
  }
 },
 "nbformat": 4,
 "nbformat_minor": 4
}
