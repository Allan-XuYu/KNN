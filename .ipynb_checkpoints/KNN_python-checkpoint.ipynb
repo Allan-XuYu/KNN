{
 "cells": [
  {
   "cell_type": "code",
   "execution_count": 1,
   "metadata": {},
   "outputs": [],
   "source": [
    "import pandas as pd\n",
    "\n",
    "df = pd.read_csv(\"iris.csv\",header=0,sep=',')\n",
    "#df.head()"
   ]
  },
  {
   "cell_type": "code",
   "execution_count": 2,
   "metadata": {},
   "outputs": [],
   "source": [
    "import numpy as np\n",
    "row_index = np.random.permutation(df.shape[0]) # random rows ,return rows index\n",
    "#print(row_index)"
   ]
  },
  {
   "cell_type": "code",
   "execution_count": 3,
   "metadata": {},
   "outputs": [],
   "source": [
    "divide = int(0.8* len(row_index)) # 80% as training data, 20% as test data\n",
    "training_index=row_index[:divide]\n",
    "test_index=row_index[divide:]\n",
    "#print(\"training index:\\n\",training_index)\n",
    "#print(\"test index:\\n\",test_index)"
   ]
  },
  {
   "cell_type": "code",
   "execution_count": 4,
   "metadata": {},
   "outputs": [],
   "source": [
    "training_set = df.loc[training_index,:]\n",
    "test_set = df.loc[test_index,:]\n",
    "#print(training_set)\n",
    "#print(test_set)"
   ]
  },
  {
   "cell_type": "code",
   "execution_count": 5,
   "metadata": {},
   "outputs": [],
   "source": [
    "training_class = list(training_set.iloc[:,-1])\n",
    "test_class = list(test_set.iloc[:,-1])\n",
    "#print(training_class)\n",
    "#print(test_class)"
   ]
  },
  {
   "cell_type": "code",
   "execution_count": 6,
   "metadata": {},
   "outputs": [],
   "source": [
    "def euclideanDistance(point_1, point_2, data_len):\n",
    "    distance = 0\n",
    "    for i in range(data_len): # multip-attributes\n",
    "        distance = distance + np.square(point_1[i] - point_2[i])\n",
    "    return np.sqrt(distance) # root the square value."
   ]
  },
  {
   "cell_type": "code",
   "execution_count": 7,
   "metadata": {},
   "outputs": [],
   "source": [
    "distances = {}  # store all the distance , using dict type\n",
    "test_point = 15; # choosing a point in test set for predict.\n",
    "\n",
    "# calculating all the distances between training points and test point   \n",
    "for x in range(len(training_set)):\n",
    "    dist_temp = euclideanDistance(test_set.iloc[test_point].values, training_set.iloc[x].values, 4)\n",
    "    distances[x] = dist_temp\n"
   ]
  },
  {
   "cell_type": "code",
   "execution_count": 8,
   "metadata": {},
   "outputs": [],
   "source": [
    "import operator\n",
    "# order distances by ascending\n",
    "sort_distances = sorted(distances.items(),key=operator.itemgetter(1))# operator.itemgetter(1) , aim to [0]:[1] for dict type\n",
    "\n",
    "#print(sort_distances)"
   ]
  },
  {
   "cell_type": "code",
   "execution_count": 9,
   "metadata": {},
   "outputs": [],
   "source": [
    "neighbors = []\n",
    "for x in range(10):  # range(k)\n",
    "    neighbors.append(sort_distances[x][0]) # get the index of k-nearest points\n",
    "#print(neighbors)      "
   ]
  },
  {
   "cell_type": "code",
   "execution_count": 10,
   "metadata": {},
   "outputs": [],
   "source": [
    "count_points = {\"Iris-setosa\" : 0, \"Iris-versicolor\" : 0, \"Iris-virginica\" : 0}\n",
    "for x in range(len(neighbors)):\n",
    "    response_class = training_set.iloc[neighbors[x]][-1] # using index to get class in training set\n",
    "    if response_class in count_points:\n",
    "        count_points[response_class] += 1 # \n",
    "    else:\n",
    "        count_points[response_class] = 1 # not in class\n",
    "\n",
    "#print(count_points)      "
   ]
  },
  {
   "cell_type": "code",
   "execution_count": 11,
   "metadata": {},
   "outputs": [
    {
     "name": "stdout",
     "output_type": "stream",
     "text": [
      "classified result: Iris-versicolor\n",
      "actual result: Iris-versicolor\n"
     ]
    }
   ],
   "source": [
    "sort_count_points = sorted(count_points.items(), key=operator.itemgetter(1), reverse=True) # find the most frequent class(get major points during these k points)\n",
    "print(\"classified result:\",sort_count_points[0][0])\n",
    "print(\"actual result:\",test_set.iloc[test_point][-1])"
   ]
  },
  {
   "cell_type": "code",
   "execution_count": null,
   "metadata": {},
   "outputs": [],
   "source": []
  }
 ],
 "metadata": {
  "kernelspec": {
   "display_name": "Python 3",
   "language": "python",
   "name": "python3"
  },
  "language_info": {
   "codemirror_mode": {
    "name": "ipython",
    "version": 3
   },
   "file_extension": ".py",
   "mimetype": "text/x-python",
   "name": "python",
   "nbconvert_exporter": "python",
   "pygments_lexer": "ipython3",
   "version": "3.8.3"
  }
 },
 "nbformat": 4,
 "nbformat_minor": 4
}
